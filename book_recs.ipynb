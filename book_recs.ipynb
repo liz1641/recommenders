{
 "cells": [
  {
   "cell_type": "code",
   "execution_count": 219,
   "metadata": {
    "collapsed": false
   },
   "outputs": [],
   "source": [
    "import pandas as pd\n",
    "import numpy as np\n",
    "import scipy.sparse as sp\n",
    "from lightfm import LightFM\n",
    "from sklearn.model_selection import train_test_split\n",
    "from tqdm import tqdm\n",
    "import src.utils as utils\n",
    "import ml_metrics as metrics"
   ]
  },
  {
   "cell_type": "code",
   "execution_count": 223,
   "metadata": {
    "collapsed": false
   },
   "outputs": [],
   "source": [
    "# %load_ext line_profiler\n"
   ]
  },
  {
   "cell_type": "code",
   "execution_count": 224,
   "metadata": {
    "collapsed": false
   },
   "outputs": [],
   "source": [
    "ratings_raw = pd.read_csv('data/books/BX-Book-Ratings.csv', sep = ';', error_bad_lines=False)\n",
    "ratings_raw.columns = ['user_id', 'isbn', 'rating']\n",
    "\n",
    "user_counts = ratings_raw['user_id'].value_counts()\n",
    "valid_users = user_counts.loc[user_counts>4].index.values\n",
    "\n",
    "book_counts = ratings_raw.loc[ratings_raw.user_id.isin(valid_users)]['isbn'].value_counts()\n",
    "valid_books = book_counts.loc[book_counts>4].index.values\n",
    "\n",
    "ratings = ratings_raw.loc[(ratings_raw.isbn.isin(valid_books)) & (ratings_raw.user_id.isin(valid_users))]"
   ]
  },
  {
   "cell_type": "code",
   "execution_count": 225,
   "metadata": {
    "collapsed": false
   },
   "outputs": [
    {
     "name": "stderr",
     "output_type": "stream",
     "text": [
      "/Users/elizabethcleveland/dev/repos/ds_categorical_recs_pysvc/venv/lib/python2.7/site-packages/ipykernel_launcher.py:1: SettingWithCopyWarning: \n",
      "A value is trying to be set on a copy of a slice from a DataFrame.\n",
      "Try using .loc[row_indexer,col_indexer] = value instead\n",
      "\n",
      "See the caveats in the documentation: http://pandas.pydata.org/pandas-docs/stable/indexing.html#indexing-view-versus-copy\n",
      "  \"\"\"Entry point for launching an IPython kernel.\n"
     ]
    }
   ],
   "source": [
    "ratings['binary_rating'] = 0\n",
    "ratings.loc[ratings['rating'] > 0, 'binary_rating'] = 1\n",
    "\n"
   ]
  },
  {
   "cell_type": "code",
   "execution_count": 267,
   "metadata": {
    "collapsed": false
   },
   "outputs": [],
   "source": [
    "# books_data = pd.read_csv('data/books/BX-Books.csv', sep=';', error_bad_lines=False)\n",
    "# books_data.columns = ['isbn', 'title', 'author', 'publication_year', 'publisher', 'image_url_s', 'image_url_m', 'image_url_l']\n",
    "# books_data = books_data.loc[books_data.isbn.isin(ratings.isbn.unique())]\n",
    "\n",
    "# books_data.author = books_data.author.apply(lambda x: x.replace(',', '_').replace(' ', '').lower())\n",
    "# books_data.publisher = books_data.publisher.apply(lambda x: x.replace(',', '_').replace(' ', '').lower())\n",
    "# books_data.year = books_data.publication_year.astype(str)\n",
    "\n",
    "item_side_data = pd.get_dummies(books_data.set_index('isbn')[['publisher', 'author', 'publication_year']])"
   ]
  },
  {
   "cell_type": "code",
   "execution_count": 227,
   "metadata": {
    "collapsed": false
   },
   "outputs": [],
   "source": [
    "users_data = pd.read_csv('data/books/BX-Users.csv', sep=';', error_bad_lines=False)\n",
    "users_data.columns = ['user_id', 'location', 'age']\n",
    "users_data = users_data.loc[users_data.user_id.isin(ratings.user_id.unique())]\n",
    "users_data.location = users_data.location.apply(lambda x: x.replace(',', '_').replace(' ', '').lower())\n",
    "\n",
    "\n",
    "location_count = users_data.location.value_counts()\n",
    "null_locs = location_count.loc[location_count < 5].index.values\n",
    "users_data.location = users_data.location.apply(lambda x: '' if x in null_locs else x)\n",
    "\n",
    "user_side_data = pd.get_dummies(users_data).fillna(0)"
   ]
  },
  {
   "cell_type": "code",
   "execution_count": 228,
   "metadata": {
    "collapsed": true
   },
   "outputs": [],
   "source": [
    "def mapk(actual, predicted, k):\n",
    "    apk_list = [metrics.apk(actual[i].tolist(), predicted[i], k) for i, r in enumerate(predicted)]\n",
    "    return np.mean(apk_list)"
   ]
  },
  {
   "cell_type": "markdown",
   "metadata": {},
   "source": [
    "# No Side Data"
   ]
  },
  {
   "cell_type": "code",
   "execution_count": 229,
   "metadata": {
    "collapsed": false
   },
   "outputs": [],
   "source": [
    "train, test = train_test_split(ratings)"
   ]
  },
  {
   "cell_type": "code",
   "execution_count": 230,
   "metadata": {
    "collapsed": false
   },
   "outputs": [],
   "source": [
    "books = train.isbn.unique()\n",
    "idxs = np.arange(len(books))\n",
    "idx_item_map = dict(zip(idxs, books))\n",
    "item_idx_map = dict(zip(books, idxs))\n",
    "\n",
    "users = train.user_id.unique()\n",
    "idxs = np.arange(len(users))\n",
    "idx_user_map = dict(zip(idxs, users))\n",
    "user_idx_map = dict(zip(users, idxs))\n",
    "\n",
    "rows = train.user_id.map(user_idx_map).values\n",
    "cols = train.isbn.map(item_idx_map).values\n",
    "data = train.binary_rating.values\n",
    "\n",
    "rtngs = sp.csr_matrix(\n",
    "    (data, (rows, cols)),\n",
    "    shape=(len(np.unique(rows)), len(np.unique(cols)))\n",
    ")\n"
   ]
  },
  {
   "cell_type": "code",
   "execution_count": 246,
   "metadata": {
    "collapsed": false
   },
   "outputs": [
    {
     "data": {
      "text/plain": [
       "<lightfm.lightfm.LightFM at 0x122924790>"
      ]
     },
     "execution_count": 246,
     "metadata": {},
     "output_type": "execute_result"
    }
   ],
   "source": [
    "model = LightFM(no_components=30, loss='warp', learning_rate=0.01)\n",
    "model.fit(rtngs, epochs=30)"
   ]
  },
  {
   "cell_type": "code",
   "execution_count": 247,
   "metadata": {
    "collapsed": false
   },
   "outputs": [
    {
     "data": {
      "text/plain": [
       "array([  105,  1244,   833, ..., 26094, 17949, 28800])"
      ]
     },
     "execution_count": 247,
     "metadata": {},
     "output_type": "execute_result"
    }
   ],
   "source": [
    "np.argsort(-model.item_biases)"
   ]
  },
  {
   "cell_type": "code",
   "execution_count": 248,
   "metadata": {
    "collapsed": false
   },
   "outputs": [
    {
     "name": "stdout",
     "output_type": "stream",
     "text": [
      "0971880107 0316666343 059035342X\n"
     ]
    }
   ],
   "source": [
    "print idx_item_map[105], idx_item_map[1244], idx_item_map[901]"
   ]
  },
  {
   "cell_type": "code",
   "execution_count": null,
   "metadata": {
    "collapsed": false
   },
   "outputs": [],
   "source": []
  },
  {
   "cell_type": "code",
   "execution_count": 249,
   "metadata": {
    "collapsed": false
   },
   "outputs": [
    {
     "name": "stdout",
     "output_type": "stream",
     "text": [
      "0.9957839 0.9927258 0.8682729\n",
      "1.5202367\n",
      "1.6802928\n",
      "1.5175416\n"
     ]
    }
   ],
   "source": [
    "print model.item_biases[105], model.item_biases[1244], model.item_biases[901]\n",
    "print np.dot(model.user_embeddings[7546], model.item_embeddings[105])\n",
    "print np.dot(model.user_embeddings[7546], model.item_embeddings[1244])\n",
    "print np.dot(model.user_embeddings[7546], model.item_embeddings[901])"
   ]
  },
  {
   "cell_type": "code",
   "execution_count": 250,
   "metadata": {
    "collapsed": false
   },
   "outputs": [
    {
     "data": {
      "text/plain": [
       "0971880107    1276\n",
       "0316666343     724\n",
       "0385504209     542\n",
       "Name: isbn, dtype: int64"
      ]
     },
     "execution_count": 250,
     "metadata": {},
     "output_type": "execute_result"
    }
   ],
   "source": [
    "train.isbn.value_counts()[:3]"
   ]
  },
  {
   "cell_type": "code",
   "execution_count": 251,
   "metadata": {
    "collapsed": false
   },
   "outputs": [
    {
     "name": "stdout",
     "output_type": "stream",
     "text": [
      "0.43009782 0.38511506 0.53316766\n",
      "0.92682326\n",
      "0.81278217\n",
      "1.0860568\n"
     ]
    }
   ],
   "source": [
    "print model.item_biases[651], model.item_biases[321], model.item_biases[429]\n",
    "print np.dot(model.user_embeddings[7546], model.item_embeddings[651])\n",
    "print np.dot(model.user_embeddings[7546], model.item_embeddings[321])\n",
    "print np.dot(model.user_embeddings[7546], model.item_embeddings[429])"
   ]
  },
  {
   "cell_type": "code",
   "execution_count": 252,
   "metadata": {
    "collapsed": false
   },
   "outputs": [
    {
     "data": {
      "text/plain": [
       "<21525x39697 sparse matrix of type '<type 'numpy.int64'>'\n",
       "\twith 456574 stored elements in Compressed Sparse Row format>"
      ]
     },
     "execution_count": 252,
     "metadata": {},
     "output_type": "execute_result"
    }
   ],
   "source": [
    "rtngs"
   ]
  },
  {
   "cell_type": "code",
   "execution_count": 253,
   "metadata": {
    "collapsed": false
   },
   "outputs": [
    {
     "name": "stderr",
     "output_type": "stream",
     "text": [
      "100%|██████████| 2000/2000 [00:21<00:00, 92.86it/s]\n"
     ]
    }
   ],
   "source": [
    "truths_all = []\n",
    "recs_all = []\n",
    "pops_all = []\n",
    "pc = 0\n",
    "\n",
    "pops = train.isbn.value_counts().index.values[:100]\n",
    "for user_id in tqdm(test[['user_id']].drop_duplicates().sample(2000).user_id.values):\n",
    "    truth = test.loc[test.user_id == user_id].isbn.values\n",
    "    truths_all.append(truth)\n",
    "    known = [] #train.loc[train.user_id == user_id].isbn.values\n",
    "    \n",
    "    if user_id not in user_idx_map.keys():\n",
    "        pc += 1\n",
    "        recs = [p for p in pops if p not in known][:10]\n",
    "    \n",
    "    else:\n",
    "        user_idx = user_idx_map[user_id]\n",
    "        rec_scores = model.predict(user_idx, np.array(idx_item_map.keys()))\n",
    "        rec_idx = np.argsort(-rec_scores)\n",
    "\n",
    "        recs = [idx_item_map[rec] for rec in rec_idx[:100]]\n",
    "    \n",
    "    recs = [rec for rec in recs if rec not in known][:10]\n",
    "    recs_all.append(recs)\n",
    "    \n",
    "    pops_cur = [p for p in pops if p not in known][:10]\n",
    "    pops_all.append(pops_cur)\n"
   ]
  },
  {
   "cell_type": "code",
   "execution_count": 254,
   "metadata": {
    "collapsed": false
   },
   "outputs": [
    {
     "data": {
      "text/plain": [
       "[0.016, 0.012, 0.011, 0.01, 0.01, 0.009, 0.009, 0.009, 0.009]"
      ]
     },
     "execution_count": 254,
     "metadata": {},
     "output_type": "execute_result"
    }
   ],
   "source": [
    "[np.around(mapk(truths_all, recs_all, k), 3) for k in np.arange(1, 10)]"
   ]
  },
  {
   "cell_type": "code",
   "execution_count": 255,
   "metadata": {
    "collapsed": false
   },
   "outputs": [
    {
     "data": {
      "text/plain": [
       "[0.024, 0.015, 0.013, 0.011, 0.01, 0.01, 0.01, 0.009, 0.009]"
      ]
     },
     "execution_count": 255,
     "metadata": {},
     "output_type": "execute_result"
    }
   ],
   "source": [
    "[np.around(mapk(truths_all, pops_all, k), 3) for k in np.arange(1, 10)]"
   ]
  },
  {
   "cell_type": "markdown",
   "metadata": {},
   "source": [
    "# With user side data"
   ]
  },
  {
   "cell_type": "code",
   "execution_count": 270,
   "metadata": {
    "collapsed": false
   },
   "outputs": [],
   "source": [
    "user_side_data['user_idx'] = user_side_data['user_id'].map(user_idx_map)\n",
    "user_side_data_full = pd.merge(pd.DataFrame(idx_user_map.keys(), columns=['user_idx']), user_side_data, how='left').fillna(0)\n",
    "user_side_data_full = user_side_data_full.sort_values('user_idx')\n",
    "\n",
    "# user_side_data_full['user_id'] = user_side_data_full['user_id'].astype(str)\n",
    "# user_side_data_dmy = pd.get_dummies(user_side_data_full.drop(['user_idx', 'age'], axis=1))\n",
    "# usd = sp.csr_matrix(user_side_data_dmy)"
   ]
  },
  {
   "cell_type": "code",
   "execution_count": 274,
   "metadata": {
    "collapsed": false
   },
   "outputs": [
    {
     "data": {
      "text/html": [
       "<div>\n",
       "<style scoped>\n",
       "    .dataframe tbody tr th:only-of-type {\n",
       "        vertical-align: middle;\n",
       "    }\n",
       "\n",
       "    .dataframe tbody tr th {\n",
       "        vertical-align: top;\n",
       "    }\n",
       "\n",
       "    .dataframe thead th {\n",
       "        text-align: right;\n",
       "    }\n",
       "</style>\n",
       "<table border=\"1\" class=\"dataframe\">\n",
       "  <thead>\n",
       "    <tr style=\"text-align: right;\">\n",
       "      <th></th>\n",
       "      <th>user_id</th>\n",
       "      <th>age</th>\n",
       "      <th>location_</th>\n",
       "      <th>location_aachen_nordrhein-westfalen_germany</th>\n",
       "      <th>location_abbotsford_britishcolumbia_canada</th>\n",
       "      <th>location_aberdeen_scotland_unitedkingdom</th>\n",
       "      <th>location_acton_massachusetts_usa</th>\n",
       "      <th>location_adelaide_southaustralia_australia</th>\n",
       "      <th>location_adrian_michigan_usa</th>\n",
       "      <th>location_akron_ohio_usa</th>\n",
       "      <th>...</th>\n",
       "      <th>location_woodinville_washington_usa</th>\n",
       "      <th>location_woodside_newyork_usa</th>\n",
       "      <th>location_woodstock_georgia_usa</th>\n",
       "      <th>location_worcester_massachusetts_usa</th>\n",
       "      <th>location_yarmouth_novascotia_canada</th>\n",
       "      <th>location_york_pennsylvania_usa</th>\n",
       "      <th>location_ypsilanti_michigan_usa</th>\n",
       "      <th>location_zaragoza_arag�n_spain</th>\n",
       "      <th>location_zaragoza_zaragoza_spain</th>\n",
       "      <th>user_idx</th>\n",
       "    </tr>\n",
       "  </thead>\n",
       "  <tbody>\n",
       "    <tr>\n",
       "      <th>7</th>\n",
       "      <td>8</td>\n",
       "      <td>0.0</td>\n",
       "      <td>1</td>\n",
       "      <td>0</td>\n",
       "      <td>0</td>\n",
       "      <td>0</td>\n",
       "      <td>0</td>\n",
       "      <td>0</td>\n",
       "      <td>0</td>\n",
       "      <td>0</td>\n",
       "      <td>...</td>\n",
       "      <td>0</td>\n",
       "      <td>0</td>\n",
       "      <td>0</td>\n",
       "      <td>0</td>\n",
       "      <td>0</td>\n",
       "      <td>0</td>\n",
       "      <td>0</td>\n",
       "      <td>0</td>\n",
       "      <td>0</td>\n",
       "      <td>1102.0</td>\n",
       "    </tr>\n",
       "    <tr>\n",
       "      <th>16</th>\n",
       "      <td>17</td>\n",
       "      <td>0.0</td>\n",
       "      <td>0</td>\n",
       "      <td>0</td>\n",
       "      <td>0</td>\n",
       "      <td>0</td>\n",
       "      <td>0</td>\n",
       "      <td>0</td>\n",
       "      <td>0</td>\n",
       "      <td>0</td>\n",
       "      <td>...</td>\n",
       "      <td>0</td>\n",
       "      <td>0</td>\n",
       "      <td>0</td>\n",
       "      <td>0</td>\n",
       "      <td>0</td>\n",
       "      <td>0</td>\n",
       "      <td>0</td>\n",
       "      <td>0</td>\n",
       "      <td>0</td>\n",
       "      <td>5514.0</td>\n",
       "    </tr>\n",
       "    <tr>\n",
       "      <th>43</th>\n",
       "      <td>44</td>\n",
       "      <td>51.0</td>\n",
       "      <td>1</td>\n",
       "      <td>0</td>\n",
       "      <td>0</td>\n",
       "      <td>0</td>\n",
       "      <td>0</td>\n",
       "      <td>0</td>\n",
       "      <td>0</td>\n",
       "      <td>0</td>\n",
       "      <td>...</td>\n",
       "      <td>0</td>\n",
       "      <td>0</td>\n",
       "      <td>0</td>\n",
       "      <td>0</td>\n",
       "      <td>0</td>\n",
       "      <td>0</td>\n",
       "      <td>0</td>\n",
       "      <td>0</td>\n",
       "      <td>0</td>\n",
       "      <td>20107.0</td>\n",
       "    </tr>\n",
       "    <tr>\n",
       "      <th>52</th>\n",
       "      <td>53</td>\n",
       "      <td>0.0</td>\n",
       "      <td>0</td>\n",
       "      <td>0</td>\n",
       "      <td>0</td>\n",
       "      <td>0</td>\n",
       "      <td>0</td>\n",
       "      <td>0</td>\n",
       "      <td>0</td>\n",
       "      <td>0</td>\n",
       "      <td>...</td>\n",
       "      <td>0</td>\n",
       "      <td>0</td>\n",
       "      <td>0</td>\n",
       "      <td>0</td>\n",
       "      <td>0</td>\n",
       "      <td>0</td>\n",
       "      <td>0</td>\n",
       "      <td>0</td>\n",
       "      <td>0</td>\n",
       "      <td>8123.0</td>\n",
       "    </tr>\n",
       "    <tr>\n",
       "      <th>68</th>\n",
       "      <td>69</td>\n",
       "      <td>0.0</td>\n",
       "      <td>0</td>\n",
       "      <td>0</td>\n",
       "      <td>0</td>\n",
       "      <td>0</td>\n",
       "      <td>0</td>\n",
       "      <td>0</td>\n",
       "      <td>0</td>\n",
       "      <td>0</td>\n",
       "      <td>...</td>\n",
       "      <td>0</td>\n",
       "      <td>0</td>\n",
       "      <td>0</td>\n",
       "      <td>0</td>\n",
       "      <td>0</td>\n",
       "      <td>0</td>\n",
       "      <td>0</td>\n",
       "      <td>0</td>\n",
       "      <td>0</td>\n",
       "      <td>15456.0</td>\n",
       "    </tr>\n",
       "  </tbody>\n",
       "</table>\n",
       "<p>5 rows × 775 columns</p>\n",
       "</div>"
      ],
      "text/plain": [
       "    user_id   age  location_  location_aachen_nordrhein-westfalen_germany  \\\n",
       "7         8   0.0          1                                            0   \n",
       "16       17   0.0          0                                            0   \n",
       "43       44  51.0          1                                            0   \n",
       "52       53   0.0          0                                            0   \n",
       "68       69   0.0          0                                            0   \n",
       "\n",
       "    location_abbotsford_britishcolumbia_canada  \\\n",
       "7                                            0   \n",
       "16                                           0   \n",
       "43                                           0   \n",
       "52                                           0   \n",
       "68                                           0   \n",
       "\n",
       "    location_aberdeen_scotland_unitedkingdom  \\\n",
       "7                                          0   \n",
       "16                                         0   \n",
       "43                                         0   \n",
       "52                                         0   \n",
       "68                                         0   \n",
       "\n",
       "    location_acton_massachusetts_usa  \\\n",
       "7                                  0   \n",
       "16                                 0   \n",
       "43                                 0   \n",
       "52                                 0   \n",
       "68                                 0   \n",
       "\n",
       "    location_adelaide_southaustralia_australia  location_adrian_michigan_usa  \\\n",
       "7                                            0                             0   \n",
       "16                                           0                             0   \n",
       "43                                           0                             0   \n",
       "52                                           0                             0   \n",
       "68                                           0                             0   \n",
       "\n",
       "    location_akron_ohio_usa    ...     location_woodinville_washington_usa  \\\n",
       "7                         0    ...                                       0   \n",
       "16                        0    ...                                       0   \n",
       "43                        0    ...                                       0   \n",
       "52                        0    ...                                       0   \n",
       "68                        0    ...                                       0   \n",
       "\n",
       "    location_woodside_newyork_usa  location_woodstock_georgia_usa  \\\n",
       "7                               0                               0   \n",
       "16                              0                               0   \n",
       "43                              0                               0   \n",
       "52                              0                               0   \n",
       "68                              0                               0   \n",
       "\n",
       "    location_worcester_massachusetts_usa  location_yarmouth_novascotia_canada  \\\n",
       "7                                      0                                    0   \n",
       "16                                     0                                    0   \n",
       "43                                     0                                    0   \n",
       "52                                     0                                    0   \n",
       "68                                     0                                    0   \n",
       "\n",
       "    location_york_pennsylvania_usa  location_ypsilanti_michigan_usa  \\\n",
       "7                                0                                0   \n",
       "16                               0                                0   \n",
       "43                               0                                0   \n",
       "52                               0                                0   \n",
       "68                               0                                0   \n",
       "\n",
       "    location_zaragoza_arag�n_spain  location_zaragoza_zaragoza_spain  user_idx  \n",
       "7                                0                                 0    1102.0  \n",
       "16                               0                                 0    5514.0  \n",
       "43                               0                                 0   20107.0  \n",
       "52                               0                                 0    8123.0  \n",
       "68                               0                                 0   15456.0  \n",
       "\n",
       "[5 rows x 775 columns]"
      ]
     },
     "execution_count": 274,
     "metadata": {},
     "output_type": "execute_result"
    }
   ],
   "source": [
    "user_side_data.head()"
   ]
  },
  {
   "cell_type": "code",
   "execution_count": null,
   "metadata": {
    "collapsed": true
   },
   "outputs": [],
   "source": [
    "user"
   ]
  },
  {
   "cell_type": "code",
   "execution_count": 257,
   "metadata": {
    "collapsed": false
   },
   "outputs": [
    {
     "data": {
      "text/plain": [
       "<lightfm.lightfm.LightFM at 0x12290e2d0>"
      ]
     },
     "execution_count": 257,
     "metadata": {},
     "output_type": "execute_result"
    }
   ],
   "source": [
    "model = LightFM(no_components=30, loss='warp', learning_rate=0.01)\n",
    "model.fit(rtngs, user_features = usd, epochs=30)"
   ]
  },
  {
   "cell_type": "code",
   "execution_count": 258,
   "metadata": {
    "collapsed": false
   },
   "outputs": [
    {
     "name": "stderr",
     "output_type": "stream",
     "text": [
      "100%|██████████| 500/500 [00:06<00:00, 74.77it/s]\n"
     ]
    }
   ],
   "source": [
    "truths_all = []\n",
    "recs_all = []\n",
    "pops_all = []\n",
    "\n",
    "pops = train.isbn.value_counts().index.values[:100]\n",
    "for user_id in tqdm(test[['user_id']].drop_duplicates().sample(500).user_id.values):\n",
    "    truth = test.loc[test.user_id == user_id].isbn.values\n",
    "    truths_all.append(truth)\n",
    "    known = train.loc[train.user_id == user_id].isbn.values\n",
    "    \n",
    "    if user_id not in user_idx_map.keys():\n",
    "        recs = [p for p in pops if p not in known][:10]\n",
    "    \n",
    "    else:\n",
    "        user_idx = user_idx_map[user_id]\n",
    "        rec_scores = model.predict(user_idx, np.array(idx_item_map.keys()), user_features = usd)\n",
    "        rec_idx = np.argsort(-rec_scores)\n",
    "\n",
    "        recs = [idx_item_map[rec] for rec in rec_idx[:100]]\n",
    "    \n",
    "    recs = [rec for rec in recs if rec not in known][:10]\n",
    "    recs_all.append(recs)\n",
    "    \n",
    "    pops_cur = [p for p in pops if p not in known][:10]\n",
    "    pops_all.append(pops_cur)\n"
   ]
  },
  {
   "cell_type": "code",
   "execution_count": 259,
   "metadata": {
    "collapsed": false
   },
   "outputs": [
    {
     "data": {
      "text/plain": [
       "[0.032, 0.021, 0.016, 0.013, 0.012, 0.012, 0.011, 0.011, 0.01]"
      ]
     },
     "execution_count": 259,
     "metadata": {},
     "output_type": "execute_result"
    }
   ],
   "source": [
    "[np.around(mapk(truths_all, recs_all, k), 3) for k in np.arange(1, 10)]"
   ]
  },
  {
   "cell_type": "code",
   "execution_count": 260,
   "metadata": {
    "collapsed": false
   },
   "outputs": [
    {
     "data": {
      "text/plain": [
       "[0.034, 0.021, 0.015, 0.013, 0.012, 0.011, 0.01, 0.01, 0.01]"
      ]
     },
     "execution_count": 260,
     "metadata": {},
     "output_type": "execute_result"
    }
   ],
   "source": [
    "[np.around(mapk(truths_all, pops_all, k), 3) for k in np.arange(1, 10)]"
   ]
  },
  {
   "cell_type": "markdown",
   "metadata": {},
   "source": [
    "# With Item Side Data"
   ]
  },
  {
   "cell_type": "code",
   "execution_count": null,
   "metadata": {
    "collapsed": true
   },
   "outputs": [],
   "source": [
    "item_side_data['item_idx'] = item_side_data['isbn'].map(item_idx_map)\n",
    "item_side_data_full = pd.merge(pd.DataFrame(item_idx_map.keys(), columns=['item_idx']), item_side_data_full, how='left').fillna(0)\n",
    "item_side_data_full.sort_values('item_idx')\n",
    "\n",
    "user_side_data_full['user_id'] = user_side_data_full['user_id'].astype(str)\n",
    "user_side_data_dmy = pd.get_dummies(user_side_data_full.drop(['user_idx', 'age'], axis=1))\n",
    "usd = sp.csr_matrix(user_side_data_dmy)"
   ]
  }
 ],
 "metadata": {
  "kernelspec": {
   "display_name": "catrecs",
   "language": "python",
   "name": "catrecs"
  },
  "language_info": {
   "codemirror_mode": {
    "name": "ipython",
    "version": 2
   },
   "file_extension": ".py",
   "mimetype": "text/x-python",
   "name": "python",
   "nbconvert_exporter": "python",
   "pygments_lexer": "ipython2",
   "version": "2.7.14"
  },
  "toc": {
   "nav_menu": {
    "height": "48px",
    "width": "252px"
   },
   "navigate_menu": true,
   "number_sections": true,
   "sideBar": true,
   "threshold": 4,
   "toc_cell": false,
   "toc_section_display": "block",
   "toc_window_display": false
  }
 },
 "nbformat": 4,
 "nbformat_minor": 2
}
